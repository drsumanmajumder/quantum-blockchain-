{
 "cells": [
  {
   "cell_type": "code",
   "execution_count": null,
   "id": "f759be74",
   "metadata": {
    "vscode": {
     "languageId": "plaintext"
    }
   },
   "outputs": [],
   "source": [
    "# generate plot\n",
    "pca = PCA()\n",
    "X_train = pca.fit_transform(X_train_scaled)\n",
    "explained_variance = pca.explained_variance_ratio_\n",
    "plt.plot(pca.explained_variance_, marker='o')\n",
    "plt.xlabel(\"Eigenvalue number\")\n",
    "plt.ylabel(\"Eigenvalue size\")\n",
    "plt.title(\"Scree Plot\")\n",
    "\n",
    "\n",
    "# Apply PCA to the scaled training data for orthogonal transformation to create a linear combination \n",
    "pca = PCA(n_components=2)\n",
    "principalComponents = pca.fit_transform(X_train_scaled)\n",
    "pca_df = pd.DataFrame(data = principalComponents\n",
    "             , columns = ['principal component 1', 'principal component 2'])\n",
    "\n",
    "pca_df.reset_index(drop=True, inplace=True)\n",
    "y_train.reset_index(drop=True, inplace=True)\n",
    "y_train = pd.DataFrame(y_train)\n",
    "final_pca_df = pca_df\n",
    "final_pca_df['target'] = y_train\n",
    "\n",
    "#Visualize the output\n",
    "ax = sns.scatterplot(x =final_pca_df.iloc[:,0], y = final_pca_df.iloc[:,1],\n",
    "hue = 'target',\n",
    "data=final_pca_df,\n",
    "legend=True)\n",
    "plt.show()"
   ]
  }
 ],
 "metadata": {
  "kernelspec": {
   "display_name": "Python 3",
   "language": "python",
   "name": "python3"
  },
  "language_info": {
   "codemirror_mode": {
    "name": "ipython",
    "version": 3
   },
   "file_extension": ".py",
   "mimetype": "text/x-python",
   "name": "python",
   "nbconvert_exporter": "python",
   "pygments_lexer": "ipython3",
   "version": "3.6.9"
  }
 },
 "nbformat": 4,
 "nbformat_minor": 5
}
